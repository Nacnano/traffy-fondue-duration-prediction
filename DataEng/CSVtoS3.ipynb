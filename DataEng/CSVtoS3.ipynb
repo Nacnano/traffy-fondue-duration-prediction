{
 "cells": [
  {
   "cell_type": "code",
   "execution_count": 154,
   "id": "db41d973",
   "metadata": {},
   "outputs": [
    {
     "name": "stdout",
     "output_type": "stream",
     "text": [
      "(132493, 16)\n",
      "Index(['ticket_id', 'type', 'organization', 'comment', 'photo', 'photo_after',\n",
      "       'coords', 'address', 'subdistrict', 'district', 'province', 'timestamp',\n",
      "       'state', 'star', 'count_reopen', 'last_activity'],\n",
      "      dtype='object')\n"
     ]
    }
   ],
   "source": [
    "import pandas as pd\n",
    "\n",
    "csv_path = \"bangkok_traffy.csv\"\n",
    "df = pd.read_csv(csv_path, encoding=\"utf-8-sig\", low_memory=False)\n",
    "print(df.shape)\n",
    "print(df.columns)"
   ]
  },
  {
   "cell_type": "code",
   "execution_count": 155,
   "id": "66354b08",
   "metadata": {},
   "outputs": [
    {
     "name": "stdout",
     "output_type": "stream",
     "text": [
      "ticket_id         object\n",
      "type              object\n",
      "organization      object\n",
      "comment           object\n",
      "photo             object\n",
      "photo_after       object\n",
      "coords            object\n",
      "address           object\n",
      "subdistrict       object\n",
      "district          object\n",
      "province          object\n",
      "timestamp         object\n",
      "state             object\n",
      "star             float64\n",
      "count_reopen       int64\n",
      "last_activity     object\n",
      "dtype: object\n"
     ]
    }
   ],
   "source": [
    "print(df.dtypes)"
   ]
  },
  {
   "cell_type": "code",
   "execution_count": 156,
   "id": "dc75bc18",
   "metadata": {},
   "outputs": [
    {
     "name": "stdout",
     "output_type": "stream",
     "text": [
      "Index(['ticket_id', 'type', 'organization', 'comment', 'photo', 'photo_after',\n",
      "       'coords', 'address', 'subdistrict', 'district', 'province', 'timestamp',\n",
      "       'state', 'last_activity'],\n",
      "      dtype='object')\n"
     ]
    }
   ],
   "source": [
    "str_cols = df.select_dtypes(include=[\"object\"]).columns\n",
    "print(str_cols)"
   ]
  },
  {
   "cell_type": "code",
   "execution_count": 157,
   "id": "4d5ff59e",
   "metadata": {},
   "outputs": [
    {
     "name": "stdout",
     "output_type": "stream",
     "text": [
      "ticket_id        string[python]\n",
      "type             string[python]\n",
      "organization     string[python]\n",
      "comment          string[python]\n",
      "photo            string[python]\n",
      "photo_after      string[python]\n",
      "coords           string[python]\n",
      "address          string[python]\n",
      "subdistrict      string[python]\n",
      "district         string[python]\n",
      "province         string[python]\n",
      "timestamp        string[python]\n",
      "state            string[python]\n",
      "star                    float64\n",
      "count_reopen              int64\n",
      "last_activity    string[python]\n",
      "dtype: object\n"
     ]
    }
   ],
   "source": [
    "df[str_cols] = df[str_cols].astype(\"string\")\n",
    "print(df.dtypes)"
   ]
  },
  {
   "cell_type": "code",
   "execution_count": 158,
   "id": "6ca08ce4",
   "metadata": {},
   "outputs": [
    {
     "data": {
      "text/html": [
       "<div>\n",
       "<style scoped>\n",
       "    .dataframe tbody tr th:only-of-type {\n",
       "        vertical-align: middle;\n",
       "    }\n",
       "\n",
       "    .dataframe tbody tr th {\n",
       "        vertical-align: top;\n",
       "    }\n",
       "\n",
       "    .dataframe thead th {\n",
       "        text-align: right;\n",
       "    }\n",
       "</style>\n",
       "<table border=\"1\" class=\"dataframe\">\n",
       "  <thead>\n",
       "    <tr style=\"text-align: right;\">\n",
       "      <th></th>\n",
       "      <th>ticket_id</th>\n",
       "      <th>type</th>\n",
       "      <th>organization</th>\n",
       "      <th>comment</th>\n",
       "      <th>photo</th>\n",
       "      <th>photo_after</th>\n",
       "      <th>coords</th>\n",
       "      <th>address</th>\n",
       "      <th>subdistrict</th>\n",
       "      <th>district</th>\n",
       "      <th>province</th>\n",
       "      <th>timestamp</th>\n",
       "      <th>state</th>\n",
       "      <th>star</th>\n",
       "      <th>count_reopen</th>\n",
       "      <th>last_activity</th>\n",
       "    </tr>\n",
       "  </thead>\n",
       "  <tbody>\n",
       "    <tr>\n",
       "      <th>1</th>\n",
       "      <td>2021-CGPMUN</td>\n",
       "      <td>{น้ำท่วม,ร้องเรียน}</td>\n",
       "      <td>เขตประเวศ,ฝ่ายโยธา เขตประเวศ</td>\n",
       "      <td>น้ำท่วมเวลาฝนตกและทะลุเข้าบ้านเดือดร้อนมากทุกๆ...</td>\n",
       "      <td>https://storage.googleapis.com/traffy_public_b...</td>\n",
       "      <td>https://storage.googleapis.com/traffy_public_b...</td>\n",
       "      <td>100.66709,13.67891</td>\n",
       "      <td>189 เฉลิมพระเกียรติ ร.9 แขวง หนองบอน เขต ประเว...</td>\n",
       "      <td>หนองบอน</td>\n",
       "      <td>ประเวศ</td>\n",
       "      <td>กรุงเทพมหานคร</td>\n",
       "      <td>2021-09-19 14:56:08.924992+00</td>\n",
       "      <td>เสร็จสิ้น</td>\n",
       "      <td>4.0</td>\n",
       "      <td>0</td>\n",
       "      <td>2022-06-21 08:21:09.532782+00</td>\n",
       "    </tr>\n",
       "    <tr>\n",
       "      <th>4</th>\n",
       "      <td>2021-DVEWYM</td>\n",
       "      <td>{น้ำท่วม,ถนน}</td>\n",
       "      <td>เขตลาดพร้าว,ฝ่ายโยธา เขตลาดพร้าว</td>\n",
       "      <td>ซอยลาดพร้าววังหิน 75 ถนนลาดพร้าววังหิน แขวงลาด...</td>\n",
       "      <td>https://storage.googleapis.com/traffy_public_b...</td>\n",
       "      <td>&lt;NA&gt;</td>\n",
       "      <td>100.59165,13.82280</td>\n",
       "      <td>702 ถ. ลาดพร้าววังหิน แขวงลาดพร้าว เขตลาดพร้าว...</td>\n",
       "      <td>ลาดพร้าว</td>\n",
       "      <td>ลาดพร้าว</td>\n",
       "      <td>กรุงเทพมหานคร</td>\n",
       "      <td>2021-12-09 12:29:08.408763+00</td>\n",
       "      <td>เสร็จสิ้น</td>\n",
       "      <td>5.0</td>\n",
       "      <td>0</td>\n",
       "      <td>2022-08-12 07:18:44.884945+00</td>\n",
       "    </tr>\n",
       "  </tbody>\n",
       "</table>\n",
       "</div>"
      ],
      "text/plain": [
       "     ticket_id                 type                      organization  \\\n",
       "1  2021-CGPMUN  {น้ำท่วม,ร้องเรียน}      เขตประเวศ,ฝ่ายโยธา เขตประเวศ   \n",
       "4  2021-DVEWYM        {น้ำท่วม,ถนน}  เขตลาดพร้าว,ฝ่ายโยธา เขตลาดพร้าว   \n",
       "\n",
       "                                             comment  \\\n",
       "1  น้ำท่วมเวลาฝนตกและทะลุเข้าบ้านเดือดร้อนมากทุกๆ...   \n",
       "4  ซอยลาดพร้าววังหิน 75 ถนนลาดพร้าววังหิน แขวงลาด...   \n",
       "\n",
       "                                               photo  \\\n",
       "1  https://storage.googleapis.com/traffy_public_b...   \n",
       "4  https://storage.googleapis.com/traffy_public_b...   \n",
       "\n",
       "                                         photo_after              coords  \\\n",
       "1  https://storage.googleapis.com/traffy_public_b...  100.66709,13.67891   \n",
       "4                                               <NA>  100.59165,13.82280   \n",
       "\n",
       "                                             address subdistrict  district  \\\n",
       "1  189 เฉลิมพระเกียรติ ร.9 แขวง หนองบอน เขต ประเว...     หนองบอน    ประเวศ   \n",
       "4  702 ถ. ลาดพร้าววังหิน แขวงลาดพร้าว เขตลาดพร้าว...    ลาดพร้าว  ลาดพร้าว   \n",
       "\n",
       "        province                      timestamp      state  star  \\\n",
       "1  กรุงเทพมหานคร  2021-09-19 14:56:08.924992+00  เสร็จสิ้น   4.0   \n",
       "4  กรุงเทพมหานคร  2021-12-09 12:29:08.408763+00  เสร็จสิ้น   5.0   \n",
       "\n",
       "   count_reopen                  last_activity  \n",
       "1             0  2022-06-21 08:21:09.532782+00  \n",
       "4             0  2022-08-12 07:18:44.884945+00  "
      ]
     },
     "execution_count": 158,
     "metadata": {},
     "output_type": "execute_result"
    }
   ],
   "source": [
    "df[df['star'].notna() & (df['star'] % 1 == 0)].head(2)"
   ]
  },
  {
   "cell_type": "code",
   "execution_count": 159,
   "id": "1bb6efa2",
   "metadata": {},
   "outputs": [],
   "source": [
    "def clean_data(df: pd.DataFrame) -> pd.DataFrame:\n",
    "    for col in str_cols:\n",
    "        df = df[df[col].notna() & (df[col].str.strip() != \"\")]\n",
    "\n",
    "    df = df.dropna(subset=[\"ticket_id\", \"star\"])\n",
    "    # df = df[df[\"count_reopen\"].notna() & (df[\"count_reopen\"] >= 0)]\n",
    "    df = df[df[\"type\"].notna() & (df[\"type\"].str.strip(\"{}\") != \"\")]\n",
    "    df = df[df[\"coords\"].notna() & (df[\"coords\"].str.strip() != \"\") & df[\"coords\"].str.contains(\",\")]\n",
    "    df[\"count_reopen\"] = df[\"count_reopen\"].fillna(0).astype(int)\n",
    "    \n",
    "    df[\"timestamp\"] = pd.to_datetime(df[\"timestamp\"], errors=\"coerce\")\n",
    "    df[\"last_activity\"] = pd.to_datetime(df[\"last_activity\"], errors=\"coerce\")\n",
    "    \n",
    "    return df\n"
   ]
  },
  {
   "cell_type": "code",
   "execution_count": 160,
   "id": "11428b4f",
   "metadata": {},
   "outputs": [],
   "source": [
    "cleaned_df = clean_data(df)"
   ]
  },
  {
   "cell_type": "code",
   "execution_count": 161,
   "id": "20bb237c",
   "metadata": {},
   "outputs": [
    {
     "name": "stdout",
     "output_type": "stream",
     "text": [
      "     ticket_id                 type  \\\n",
      "1  2021-CGPMUN  {น้ำท่วม,ร้องเรียน}   \n",
      "7  2021-8N9ZP8          {ความสะอาด}   \n",
      "\n",
      "                                        organization  \\\n",
      "1                       เขตประเวศ,ฝ่ายโยธา เขตประเวศ   \n",
      "7  เขตประเวศ,ฝ่ายเทศกิจ เขตประเวศ,ฝ่ายรักษาความสะ...   \n",
      "\n",
      "                                             comment  \\\n",
      "1  น้ำท่วมเวลาฝนตกและทะลุเข้าบ้านเดือดร้อนมากทุกๆ...   \n",
      "7                  คนเอาขยะมาทิ้งจนกลายเป็นกองขยะค่ะ   \n",
      "\n",
      "                                               photo  \\\n",
      "1  https://storage.googleapis.com/traffy_public_b...   \n",
      "7  https://storage.googleapis.com/traffy_public_b...   \n",
      "\n",
      "                                         photo_after              coords  \\\n",
      "1  https://storage.googleapis.com/traffy_public_b...  100.66709,13.67891   \n",
      "7  https://storage.googleapis.com/traffy_public_b...  100.64690,13.67083   \n",
      "\n",
      "                                             address subdistrict district  \\\n",
      "1  189 เฉลิมพระเกียรติ ร.9 แขวง หนองบอน เขต ประเว...     หนองบอน   ประเวศ   \n",
      "7  110 ซอย มีสุข แขวง หนองบอน เขต ประเวศ กรุงเทพม...     หนองบอน   ประเวศ   \n",
      "\n",
      "        province                        timestamp      state  star  \\\n",
      "1  กรุงเทพมหานคร 2021-09-19 14:56:08.924992+00:00  เสร็จสิ้น   4.0   \n",
      "7  กรุงเทพมหานคร 2021-12-18 14:50:52.437512+00:00  เสร็จสิ้น   2.0   \n",
      "\n",
      "   count_reopen                    last_activity  \n",
      "1             0 2022-06-21 08:21:09.532782+00:00  \n",
      "7             0 2024-11-26 04:17:39.760344+00:00  \n"
     ]
    }
   ],
   "source": [
    "print(cleaned_df.head(2))"
   ]
  },
  {
   "cell_type": "code",
   "execution_count": 162,
   "id": "9070a882",
   "metadata": {},
   "outputs": [
    {
     "name": "stdout",
     "output_type": "stream",
     "text": [
      "(34645, 16)\n"
     ]
    }
   ],
   "source": [
    "print(cleaned_df.shape)"
   ]
  },
  {
   "cell_type": "code",
   "execution_count": 163,
   "id": "b4e9bf79",
   "metadata": {},
   "outputs": [],
   "source": [
    "def process_data(df: pd.DataFrame) -> pd.DataFrame:\n",
    "    df['type'] = df['type'].str.strip('{}').str.split(',')\n",
    "    df['organization'] = df['organization'].str.split(',')\n",
    "    df[\"coords\"] = df[\"coords\"].str.split(\",\").apply(lambda x: [float(i) for i in x])\n",
    "    df[\"lat\"] = df[\"coords\"].apply(lambda x: x[0])\n",
    "    df[\"lon\"] = df[\"coords\"].apply(lambda x: x[1])\n",
    "    df[\"duration_min\"] = (df[\"last_activity\"] - df[\"timestamp\"]).dt.total_seconds() / 60\n",
    "    df = df.drop(columns=[\"coords\"])\n",
    "    \n",
    "    return df"
   ]
  },
  {
   "cell_type": "code",
   "execution_count": 164,
   "id": "15370b93",
   "metadata": {},
   "outputs": [
    {
     "name": "stdout",
     "output_type": "stream",
     "text": [
      "ticket_id             string[python]\n",
      "type                  string[python]\n",
      "organization          string[python]\n",
      "comment               string[python]\n",
      "photo                 string[python]\n",
      "photo_after           string[python]\n",
      "coords                string[python]\n",
      "address               string[python]\n",
      "subdistrict           string[python]\n",
      "district              string[python]\n",
      "province              string[python]\n",
      "timestamp        datetime64[ns, UTC]\n",
      "state                 string[python]\n",
      "star                         float64\n",
      "count_reopen                   int64\n",
      "last_activity    datetime64[ns, UTC]\n",
      "dtype: object\n"
     ]
    }
   ],
   "source": [
    "print(cleaned_df.dtypes)"
   ]
  },
  {
   "cell_type": "code",
   "execution_count": 165,
   "id": "69ed22a5",
   "metadata": {},
   "outputs": [],
   "source": [
    "# n = 10\n",
    "# tmp = cleaned_df.head(n)\n",
    "tmp = cleaned_df\n",
    "tmp = process_data(tmp)"
   ]
  },
  {
   "cell_type": "code",
   "execution_count": 166,
   "id": "4b92fc4e",
   "metadata": {},
   "outputs": [],
   "source": [
    "tmp.to_json('output2.jsonl', orient='records', lines=True, force_ascii=False)"
   ]
  },
  {
   "cell_type": "code",
   "execution_count": 167,
   "id": "fdb10db1",
   "metadata": {},
   "outputs": [
    {
     "name": "stdout",
     "output_type": "stream",
     "text": [
      "ticket_id             string[python]\n",
      "type                          object\n",
      "organization                  object\n",
      "comment               string[python]\n",
      "photo                 string[python]\n",
      "photo_after           string[python]\n",
      "address               string[python]\n",
      "subdistrict           string[python]\n",
      "district              string[python]\n",
      "province              string[python]\n",
      "timestamp        datetime64[ns, UTC]\n",
      "state                 string[python]\n",
      "star                         float64\n",
      "count_reopen                   int64\n",
      "last_activity    datetime64[ns, UTC]\n",
      "lat                          float64\n",
      "lon                          float64\n",
      "duration_min                 float64\n",
      "dtype: object\n",
      "(34645, 18)\n",
      "(30727, 18)\n",
      "1     3.956050e+05\n",
      "7     1.545927e+06\n",
      "9     2.593765e+05\n",
      "11    2.824109e+05\n",
      "30    6.826268e+05\n",
      "Name: duration_min, dtype: float64\n"
     ]
    }
   ],
   "source": [
    "print(tmp.dtypes)\n",
    "print(tmp.shape)\n",
    "print(tmp[tmp[\"duration_min\"] > 24*60].shape)\n",
    "print(tmp[tmp[\"duration_min\"] > 24*60][\"duration_min\"].head(5))"
   ]
  },
  {
   "cell_type": "code",
   "execution_count": 168,
   "id": "be0ed6b6",
   "metadata": {},
   "outputs": [],
   "source": [
    "# cleaned_df.to_csv(\"cleaned_bangkok_traffy.csv\", index=False, encoding=\"utf-8-sig\")\n",
    "# print(\"✅ Exported to cleaned_bangkok_traffy.csv\")"
   ]
  },
  {
   "cell_type": "code",
   "execution_count": null,
   "id": "6c68e9f1",
   "metadata": {},
   "outputs": [],
   "source": []
  }
 ],
 "metadata": {
  "kernelspec": {
   "display_name": "Python 3",
   "language": "python",
   "name": "python3"
  },
  "language_info": {
   "codemirror_mode": {
    "name": "ipython",
    "version": 3
   },
   "file_extension": ".py",
   "mimetype": "text/x-python",
   "name": "python",
   "nbconvert_exporter": "python",
   "pygments_lexer": "ipython3",
   "version": "3.10.12"
  }
 },
 "nbformat": 4,
 "nbformat_minor": 5
}
